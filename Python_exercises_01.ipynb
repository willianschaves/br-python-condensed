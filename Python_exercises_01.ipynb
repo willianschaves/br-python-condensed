{
  "nbformat": 4,
  "nbformat_minor": 0,
  "metadata": {
    "colab": {
      "name": "Copy of python_exercises_01.ipynb",
      "provenance": [],
      "include_colab_link": true
    },
    "kernelspec": {
      "name": "python3",
      "display_name": "Python 3"
    }
  },
  "cells": [
    {
      "cell_type": "markdown",
      "metadata": {
        "id": "view-in-github",
        "colab_type": "text"
      },
      "source": [
        "<a href=\"https://colab.research.google.com/github/willianschaves/br-python-condensed/blob/main/Python_exercises_01.ipynb\" target=\"_parent\"><img src=\"https://colab.research.google.com/assets/colab-badge.svg\" alt=\"Open In Colab\"/></a>"
      ]
    },
    {
      "cell_type": "markdown",
      "metadata": {
        "id": "8YqaSZgXYJ5g"
      },
      "source": [
        "![](https://i.imgur.com/YX6UATs.png)\n"
      ]
    },
    {
      "cell_type": "markdown",
      "metadata": {
        "id": "hhUVzDipaGb9"
      },
      "source": [
        "### **Exercícios de Python - 1** \n",
        "\n",
        "\n",
        "\n"
      ]
    },
    {
      "cell_type": "markdown",
      "metadata": {
        "id": "qMGp-h8OaGqr"
      },
      "source": [
        "1 - Faça um programa, com uma função que necessite de três argumentos, e que forneça a soma desses três argumentos."
      ]
    },
    {
      "cell_type": "code",
      "metadata": {
        "id": "kTg-D89NdCld"
      },
      "source": [
        "def argumentos() :\r\n",
        "  a = float(input(\"Digite o primeiro valor : \"))\r\n",
        "  b = float(input(\"Digite o segundo valor : \"))\r\n",
        "  c = float(input(\"Digite o terceiro valor : \"))\r\n",
        "  total = a + b + c\r\n",
        "  frase = f\"A soma dos três argumentos é de : {total}\"\r\n",
        "  return frase"
      ],
      "execution_count": null,
      "outputs": []
    },
    {
      "cell_type": "code",
      "metadata": {
        "id": "JgrgB1-TnnrT",
        "colab": {
          "base_uri": "https://localhost:8080/",
          "height": 86
        },
        "outputId": "c95ac88b-80de-4dae-813b-92f53a835d14"
      },
      "source": [
        "argumentos ()"
      ],
      "execution_count": null,
      "outputs": [
        {
          "output_type": "stream",
          "text": [
            "Digite o primeiro valor : 10\n",
            "Digite o segundo valor : 20\n",
            "Digite o terceiro valor : 30\n"
          ],
          "name": "stdout"
        },
        {
          "output_type": "execute_result",
          "data": {
            "application/vnd.google.colaboratory.intrinsic+json": {
              "type": "string"
            },
            "text/plain": [
              "'A soma dos três argumentos é de : 60.0'"
            ]
          },
          "metadata": {
            "tags": []
          },
          "execution_count": 3
        }
      ]
    },
    {
      "cell_type": "markdown",
      "metadata": {
        "id": "KdLXZftIaG60"
      },
      "source": [
        "2 - Faça um Programa que peça a temperatura em graus Celsius, transforme e mostre em graus Fahrenheit. \\\n",
        "*Dica: procure a fórmula para essa conversão na internet*"
      ]
    },
    {
      "cell_type": "code",
      "metadata": {
        "id": "MNINJ32eU45M"
      },
      "source": [
        "def graus() :\r\n",
        "  celsius = float(input(\"Digite a temperatura em graus Celsius : \"))\r\n",
        "  far =  (1.8 * celsius)+32\r\n",
        "  frase = f\"A temperatura {celsius}°C é equivalente a  : {far}°F \"\r\n",
        "  return frase"
      ],
      "execution_count": 31,
      "outputs": []
    },
    {
      "cell_type": "code",
      "metadata": {
        "colab": {
          "base_uri": "https://localhost:8080/",
          "height": 52
        },
        "id": "Lb497YnQpefj",
        "outputId": "6191ff33-5026-414f-ba0a-4a5028bc1240"
      },
      "source": [
        "graus()"
      ],
      "execution_count": 33,
      "outputs": [
        {
          "output_type": "stream",
          "text": [
            "Digite a temperatura em graus Celsius : 28\n"
          ],
          "name": "stdout"
        },
        {
          "output_type": "execute_result",
          "data": {
            "application/vnd.google.colaboratory.intrinsic+json": {
              "type": "string"
            },
            "text/plain": [
              "'A temperatura 28.0°C é equivalente a  : 82.4°F '"
            ]
          },
          "metadata": {
            "tags": []
          },
          "execution_count": 33
        }
      ]
    },
    {
      "cell_type": "markdown",
      "metadata": {
        "id": "4OETBVgmaGzX"
      },
      "source": [
        "3 - Faça um Programa que peça um número inteiro e determine se ele é par ou impar. Dica: utilize o operador módulo (resto da divisão)."
      ]
    },
    {
      "cell_type": "code",
      "metadata": {
        "id": "WbzCimFZVSr1",
        "colab": {
          "base_uri": "https://localhost:8080/"
        },
        "outputId": "1191b63a-3a30-4d93-e58b-b504ec23f6a1"
      },
      "source": [
        "x = float(input('Digite um número para saber se é par ou impar:'))\r\n",
        "resto = x % 2\r\n",
        "\r\n",
        "if resto == 0:\r\n",
        "    print('O Número é par')\r\n",
        "else:\r\n",
        "    print('O Número é impar')\r\n",
        "\r\n"
      ],
      "execution_count": 46,
      "outputs": [
        {
          "output_type": "stream",
          "text": [
            "Digite um número para saber se é par ou impar:11\n",
            "O Número é impar\n"
          ],
          "name": "stdout"
        }
      ]
    },
    {
      "cell_type": "code",
      "metadata": {
        "id": "mZDg0_QzvHMY"
      },
      "source": [
        "numero()"
      ],
      "execution_count": null,
      "outputs": []
    },
    {
      "cell_type": "markdown",
      "metadata": {
        "id": "7zPJ8sgPaGw0"
      },
      "source": [
        "4 - Faça um programa que peça o tamanho de um arquivo para download (em MB) e a velocidade de um link de Internet (em Mbps), calcule e informe o tempo aproximado de download do arquivo usando este link (em minutos)."
      ]
    },
    {
      "cell_type": "code",
      "metadata": {
        "id": "l4qtSxU7XquB",
        "colab": {
          "base_uri": "https://localhost:8080/"
        },
        "outputId": "9c9808c6-e44f-4850-9825-33023004d70b"
      },
      "source": [
        "tam = float(input(\"Digite o tamanho do arquivo que irá fazer o download: \"))\r\n",
        "velocidade = float(input(\"Digite a velocidade da internet: \"))\r\n",
        "seg = tam/velocidade\r\n",
        "min = int(seg/60)\r\n",
        "seg = seg%60\r\n",
        "print(\"Tempo aproximado de download: \" + str(min) + \" minutos e \" + str(seg) + \" segundos\")"
      ],
      "execution_count": 55,
      "outputs": [
        {
          "output_type": "stream",
          "text": [
            "Digite o tamanho do arquivo que irá fazer o download: 100\n",
            "Digite a velocidade da internet: 5\n",
            "Tempo aproximado de download: 0 minutos e 20.0 segundos\n"
          ],
          "name": "stdout"
        }
      ]
    },
    {
      "cell_type": "markdown",
      "metadata": {
        "id": "0tkhm6EUaG1u"
      },
      "source": [
        "5 - Faça um programa para a leitura de duas notas parciais de um aluno. O programa deve calcular a média alcançada por aluno e apresentar:\n",
        "- A mensagem \"Aprovado\", se a média alcançada for maior ou igual a sete;\n",
        "- A mensagem \"Reprovado\", se a média for menor do que sete;\n",
        "- A mensagem \"Aprovado com Distinção\", se a média for igual a dez."
      ]
    },
    {
      "cell_type": "code",
      "metadata": {
        "id": "990mQ6UhdwKl",
        "colab": {
          "base_uri": "https://localhost:8080/"
        },
        "outputId": "62e80d2f-1b4c-45e9-f664-80239b7e4c19"
      },
      "source": [
        "nota1 = float(input(\"Digite a primeira nota do aluno : \") )\r\n",
        "nota2 = float(input(\"Digite a segunda nota do aluno : \") )\r\n",
        "\r\n",
        "media = (nota1 + nota2)/2\r\n",
        "\r\n",
        "if media == 10:\r\n",
        "  resultado = \"Aluno Aprovado com distinção\"\r\n",
        "elif media >= 7:\r\n",
        "      resultado = \"Aluno Aprovado\"\r\n",
        "else:\r\n",
        "      resultado = \"Aluno Reprovado\"\r\n",
        "\r\n",
        "print (resultado)"
      ],
      "execution_count": 67,
      "outputs": [
        {
          "output_type": "stream",
          "text": [
            "Digite a primeira nota do aluno : 10\n",
            "Digite a segunda nota do aluno : 5\n",
            "Aluno Aprovado\n"
          ],
          "name": "stdout"
        }
      ]
    },
    {
      "cell_type": "markdown",
      "metadata": {
        "id": "Lm1tOKThnU42"
      },
      "source": [
        "Exercícios adaptados de Python Brasil"
      ]
    }
  ]
}