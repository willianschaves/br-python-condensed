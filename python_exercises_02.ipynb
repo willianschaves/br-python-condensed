{
  "nbformat": 4,
  "nbformat_minor": 0,
  "metadata": {
    "colab": {
      "name": "Copy of Copy of python_exercises_02.ipynb",
      "provenance": [],
      "include_colab_link": true
    },
    "kernelspec": {
      "name": "python3",
      "display_name": "Python 3"
    }
  },
  "cells": [
    {
      "cell_type": "markdown",
      "metadata": {
        "id": "view-in-github",
        "colab_type": "text"
      },
      "source": [
        "<a href=\"https://colab.research.google.com/github/willianschaves/br-python-condensed/blob/main/python_exercises_02.ipynb\" target=\"_parent\"><img src=\"https://colab.research.google.com/assets/colab-badge.svg\" alt=\"Open In Colab\"/></a>"
      ]
    },
    {
      "cell_type": "markdown",
      "metadata": {
        "id": "8YqaSZgXYJ5g"
      },
      "source": [
        "![](https://i.imgur.com/YX6UATs.png)\n"
      ]
    },
    {
      "cell_type": "markdown",
      "metadata": {
        "id": "hhUVzDipaGb9"
      },
      "source": [
        "### **Exercícios de Python - 2** \n",
        "\n",
        "\n",
        "\n"
      ]
    },
    {
      "cell_type": "markdown",
      "metadata": {
        "id": "c62cM2VlKFqN"
      },
      "source": [
        "1 - Faça um programa que leia um nome de usuário e a sua senha e não aceite a senha igual ao nome do usuário, mostrando uma mensagem de erro."
      ]
    },
    {
      "cell_type": "code",
      "metadata": {
        "id": "A3ajzaOSq69B",
        "colab": {
          "base_uri": "https://localhost:8080/"
        },
        "outputId": "62655be6-4cd6-4439-d7eb-90edfa2391f8"
      },
      "source": [
        "nome = input (\"Digite seu nome : \")\r\n",
        "senha = input (\"Digite sua senha : \")\r\n",
        "\r\n",
        "if nome == senha :\r\n",
        "  print (\"A senha não pode ser igual ao nome do usuário, digite outra senha !\")\r\n",
        "else :\r\n",
        " print (\"Cadastro efetuado com sucesso !\")\r\n"
      ],
      "execution_count": null,
      "outputs": [
        {
          "output_type": "stream",
          "text": [
            "Digite seu nome : willians\n",
            "Digite sua senha : willians\n",
            "A senha não pode ser igual ao nome do usuário, digite outra senha !\n"
          ],
          "name": "stdout"
        }
      ]
    },
    {
      "cell_type": "markdown",
      "metadata": {
        "id": "qMGp-h8OaGqr"
      },
      "source": [
        "2 - Utilizando listas faça um programa que faça 5 perguntas para uma pessoa sobre um crime. As perguntas são:\n",
        "- \"Telefonou para a vítima?\"\n",
        "- \"Esteve no local do crime?\"\n",
        "- \"Mora perto da vítima?\"\n",
        "- \"Devia para a vítima?\"\n",
        "- \"Já trabalhou com a vítima?\" \\\n",
        "O programa deve no final emitir uma classificação sobre a participação da pessoa no crime. Se a pessoa responder positivamente a 2 questões ela deve ser classificada como \"Suspeita\", entre 3 e 4 como \"Cúmplice\" e 5 como \"Assassino\". Caso contrário, ele será classificado como \"Inocente\"."
      ]
    },
    {
      "cell_type": "code",
      "metadata": {
        "id": "kTg-D89NdCld",
        "colab": {
          "base_uri": "https://localhost:8080/"
        },
        "outputId": "1ad14a9c-a45d-4902-bdac-cd341e732f85"
      },
      "source": [
        "tel = int (input(\"Telefonou para a vítima ? Responda 1 - Sim ou 0 - Não : \"))\r\n",
        "loc = int (input(\"Esteve no local do crime ? Responda 1 - Sim ou 0 - Não : \"))\r\n",
        "mora = int (input (\"Mora Perto da vítima ? Responda 1 - Sim ou 0 - Não : \"))\r\n",
        "dev = int (input (\"Devia para a vítima ? Responda 1 - Sim ou 0 - Não : \"))\r\n",
        "trab = int (input (\"Trabalhou vítima ? Responda 1 - Sim ou 0 - Não : \"))\r\n",
        "\r\n",
        "total = tel + loc + mora + dev + trab\r\n",
        "\r\n",
        "if  total  == 2 :\r\n",
        "  print (\"Você é suspeito !\")\r\n",
        "elif (total >= 3) and (total <= 4) :\r\n",
        "  print (\"Você é cúmplice !\")\r\n",
        "elif total == 5 :\r\n",
        "  print (\"Você é o assassino !\")\r\n",
        "else :\r\n",
        "  print (\"Você é inocente !\")\r\n"
      ],
      "execution_count": 15,
      "outputs": [
        {
          "output_type": "stream",
          "text": [
            "Telefonou para a vítima ? Responda 1 - Sim ou 0 - Não : 0\n",
            "Esteve no local do crime ? Responda 1 - Sim ou 0 - Não : 0\n",
            "Mora Perto da vítima ? Responda 1 - Sim ou 0 - Não : 0\n",
            "Devia para a vítima ? Responda 1 - Sim ou 0 - Não : 0\n",
            "Trabalhou vítima ? Responda 1 - Sim ou 0 - Não : 0\n",
            "Você é inocente !\n"
          ],
          "name": "stdout"
        }
      ]
    },
    {
      "cell_type": "markdown",
      "metadata": {
        "id": "FTK9nE4pdB1D"
      },
      "source": [
        "3 - A lista abaixo possui nomes de alunos de uma classe. Crie um loop que imprima '{nome} é aluno da classe'\n"
      ]
    },
    {
      "cell_type": "code",
      "metadata": {
        "id": "nW4SbDxTmx4t"
      },
      "source": [
        "lista = ['Maria','João','Marcelo','Jonas','Laura','Luana']"
      ],
      "execution_count": 21,
      "outputs": []
    },
    {
      "cell_type": "code",
      "metadata": {
        "id": "0sRr8MXCpbGP",
        "colab": {
          "base_uri": "https://localhost:8080/"
        },
        "outputId": "0c001c80-dbbd-44d9-b829-caadf3f32129"
      },
      "source": [
        "for i in lista:\r\n",
        "  print(i,\" é aluno da classe\")"
      ],
      "execution_count": 22,
      "outputs": [
        {
          "output_type": "stream",
          "text": [
            "Maria  é aluno da classe\n",
            "João  é aluno da classe\n",
            "Marcelo  é aluno da classe\n",
            "Jonas  é aluno da classe\n",
            "Laura  é aluno da classe\n",
            "Luana  é aluno da classe\n"
          ],
          "name": "stdout"
        }
      ]
    },
    {
      "cell_type": "markdown",
      "metadata": {
        "id": "_HbJNv8MaG4g"
      },
      "source": [
        "4 - Utilizando-se da mesma lista trabalhada acima e a lista dada abaixo, que contem as idades dos alunos, realize um loop que faça a iteração com as duas listas printando \"{nome} tem {idade} anos\".\n",
        "Dica: utilize *zip*()"
      ]
    },
    {
      "cell_type": "code",
      "metadata": {
        "id": "LJDxmAbJeO9V"
      },
      "source": [
        "idade = [23,34,42,54,26,27]"
      ],
      "execution_count": 27,
      "outputs": []
    },
    {
      "cell_type": "code",
      "metadata": {
        "id": "Kq1Lc7Ukps-V",
        "colab": {
          "base_uri": "https://localhost:8080/"
        },
        "outputId": "67c02b4a-300d-4b84-ac53-c7f34a0b2e07"
      },
      "source": [
        "for i in zip (lista,idade):\r\n",
        " print (i[0], \"tem\", i[1], \"anos\")"
      ],
      "execution_count": 36,
      "outputs": [
        {
          "output_type": "stream",
          "text": [
            "Maria tem 23 anos\n",
            "João tem 34 anos\n",
            "Marcelo tem 42 anos\n",
            "Jonas tem 54 anos\n",
            "Laura tem 26 anos\n",
            "Luana tem 27 anos\n"
          ],
          "name": "stdout"
        }
      ]
    },
    {
      "cell_type": "markdown",
      "metadata": {
        "id": "0tkhm6EUaG1u"
      },
      "source": [
        "5 - Transforme as duas listas anteriores em um dicionário cuja chave é o nome e o valor é a idade."
      ]
    },
    {
      "cell_type": "code",
      "metadata": {
        "id": "MNINJ32eU45M",
        "colab": {
          "base_uri": "https://localhost:8080/",
          "height": 214
        },
        "outputId": "3d17efcd-157b-4fd0-f340-79e02ead2c17"
      },
      "source": [
        "dict = {}\r\n",
        "\r\n",
        "for nome in zip (lista,idade):\r\n",
        "  dict[nome[0]] = {}\r\n",
        "  \r\n",
        "  dict[nome[0]][\"sexo\"]=idade[0]"
      ],
      "execution_count": 88,
      "outputs": [
        {
          "output_type": "error",
          "ename": "TypeError",
          "evalue": "ignored",
          "traceback": [
            "\u001b[0;31m---------------------------------------------------------------------------\u001b[0m",
            "\u001b[0;31mTypeError\u001b[0m                                 Traceback (most recent call last)",
            "\u001b[0;32m<ipython-input-88-1f5195a8e9fc>\u001b[0m in \u001b[0;36m<module>\u001b[0;34m()\u001b[0m\n\u001b[1;32m      3\u001b[0m \u001b[0;32mfor\u001b[0m \u001b[0mnome\u001b[0m \u001b[0;32min\u001b[0m \u001b[0mzip\u001b[0m \u001b[0;34m(\u001b[0m\u001b[0mlista\u001b[0m\u001b[0;34m,\u001b[0m\u001b[0midade\u001b[0m\u001b[0;34m)\u001b[0m\u001b[0;34m:\u001b[0m\u001b[0;34m\u001b[0m\u001b[0;34m\u001b[0m\u001b[0m\n\u001b[1;32m      4\u001b[0m   \u001b[0mdict\u001b[0m\u001b[0;34m[\u001b[0m\u001b[0mnome\u001b[0m\u001b[0;34m[\u001b[0m\u001b[0;36m0\u001b[0m\u001b[0;34m]\u001b[0m\u001b[0;34m]\u001b[0m \u001b[0;34m=\u001b[0m \u001b[0;34m{\u001b[0m\u001b[0;34m}\u001b[0m\u001b[0;34m\u001b[0m\u001b[0;34m\u001b[0m\u001b[0m\n\u001b[0;32m----> 5\u001b[0;31m   \u001b[0mdict\u001b[0m \u001b[0;34m[\u001b[0m\u001b[0mid\u001b[0m\u001b[0;34m[\u001b[0m\u001b[0;36m0\u001b[0m\u001b[0;34m]\u001b[0m\u001b[0;34m]\u001b[0m \u001b[0;34m=\u001b[0m \u001b[0;34m{\u001b[0m\u001b[0;34m}\u001b[0m\u001b[0;34m\u001b[0m\u001b[0;34m\u001b[0m\u001b[0m\n\u001b[0m\u001b[1;32m      6\u001b[0m   \u001b[0mdict\u001b[0m\u001b[0;34m[\u001b[0m\u001b[0mnome\u001b[0m\u001b[0;34m[\u001b[0m\u001b[0;36m0\u001b[0m\u001b[0;34m]\u001b[0m\u001b[0;34m]\u001b[0m\u001b[0;34m[\u001b[0m\u001b[0;34m\"sexo\"\u001b[0m\u001b[0;34m]\u001b[0m\u001b[0;34m=\u001b[0m\u001b[0midade\u001b[0m\u001b[0;34m[\u001b[0m\u001b[0;36m0\u001b[0m\u001b[0;34m]\u001b[0m\u001b[0;34m\u001b[0m\u001b[0;34m\u001b[0m\u001b[0m\n",
            "\u001b[0;31mTypeError\u001b[0m: 'builtin_function_or_method' object is not subscriptable"
          ]
        }
      ]
    },
    {
      "cell_type": "code",
      "metadata": {
        "colab": {
          "base_uri": "https://localhost:8080/"
        },
        "id": "J7lL6Pd2mP95",
        "outputId": "ae386489-0660-4e03-a9c7-5ec06ec76e6a"
      },
      "source": [
        "dict"
      ],
      "execution_count": 87,
      "outputs": [
        {
          "output_type": "execute_result",
          "data": {
            "text/plain": [
              "{'Jonas': {'sexo': 23},\n",
              " 'João': {'sexo': 23},\n",
              " 'Laura': {'sexo': 23},\n",
              " 'Luana': {'sexo': 23},\n",
              " 'Marcelo': {'sexo': 23},\n",
              " 'Maria': {'sexo': 23}}"
            ]
          },
          "metadata": {
            "tags": []
          },
          "execution_count": 87
        }
      ]
    },
    {
      "cell_type": "markdown",
      "metadata": {
        "id": "Lm1tOKThnU42"
      },
      "source": [
        "Exercícios adaptados de Python Brasil"
      ]
    }
  ]
}